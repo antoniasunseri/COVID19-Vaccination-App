{
 "cells": [
  {
   "cell_type": "markdown",
   "id": "363169d5",
   "metadata": {},
   "source": [
    "# Project 2\n",
    "### Antonia Sunseri "
   ]
  },
  {
   "cell_type": "code",
   "execution_count": 10,
   "id": "dc8d3805",
   "metadata": {},
   "outputs": [],
   "source": [
    "# Loading Packages \n",
    "import numpy as np\n",
    "import pandas as pd\n",
    "import plotly.express as px\n",
    "import plotly.io as pio \n",
    "import dash\n",
    "from dash import Dash, dcc, html, Input, Output\n",
    "pio.templates.default = \"plotly_white\""
   ]
  },
  {
   "cell_type": "code",
   "execution_count": 11,
   "id": "9fb57a9e",
   "metadata": {},
   "outputs": [],
   "source": [
    "# Reading in dataframe\n",
    "df = pd.read_csv(r'C:\\Users\\anton\\OneDrive - University of Denver\\Spring Quarter 2025\\COMP 4433\\Antonia_Sunseri_Project 2\\country_vaccinations.csv')\n",
    "\n",
    "# First 6 rows\n",
    "df.head()\n",
    "\n",
    "\n",
    "latest_df = df.sort_values('date').groupby('country').tail(1)\n",
    "\n",
    "df_cleaned = df.dropna()"
   ]
  },
  {
   "cell_type": "code",
   "execution_count": 12,
   "id": "afbaf03a",
   "metadata": {},
   "outputs": [],
   "source": [
    "# Save to new dataframe\n",
    "df_cleaned.to_csv(\"cleaned_country_vaccinations.csv\", index=False)"
   ]
  },
  {
   "cell_type": "code",
   "execution_count": 13,
   "id": "12b183f7",
   "metadata": {},
   "outputs": [],
   "source": [
    "app = dash.Dash(__name__)\n",
    "app.title = \"COVID-19 Global Vaccination Dashboard\""
   ]
  },
  {
   "cell_type": "code",
   "execution_count": 14,
   "id": "c16f9c61",
   "metadata": {},
   "outputs": [],
   "source": [
    "# App Layout\n",
    "app.layout = html.Div([\n",
    "    # App title\n",
    "    html.H1(\"Global COVID-19 Vaccination Dashboard\", style={'textAlign': 'center'}),\n",
    "\n",
    "    # Control panel: Country selector, metric selector, and date range\n",
    "    html.Div([\n",
    "        # Drop down to select country \n",
    "        html.Label(\"Select a Country:\"),\n",
    "        dcc.Dropdown(\n",
    "            options=[{'label': c, 'value': c} for c in sorted(df['country'].unique())],\n",
    "            value='United States',\n",
    "            id='country-dropdown'\n",
    "        ),\n",
    "\n",
    "        # Radio buttons to select vaccination metric\n",
    "        html.Label(\"Select Metric:\"),\n",
    "        dcc.RadioItems(\n",
    "            options=[\n",
    "                {'label': 'People Fully Vaccinated', 'value': 'people_fully_vaccinated'},\n",
    "                {'label': 'Daily Vaccinations', 'value': 'daily_vaccinations'}\n",
    "            ],\n",
    "            value='people_fully_vaccinated',\n",
    "            id='metric-radio'\n",
    "        ),\n",
    "\n",
    "        # Date range picker to filter data\n",
    "        html.Label(\"Select Date Range:\"),\n",
    "        dcc.DatePickerRange(\n",
    "            id='date-range',\n",
    "            min_date_allowed=df['date'].min(),\n",
    "            max_date_allowed=df['date'].max(),\n",
    "            start_date=df['date'].min(),\n",
    "            end_date=df['date'].max()\n",
    "        ),\n",
    "    ], style={'width': '50%', 'margin': 'auto'}),\n",
    "\n",
    "    # Line chart revealing vaccination trends over time\n",
    "    dcc.Graph(id='line-graph'),\n",
    "    \n",
    "    # bar chart showing the top 10 countries by fully vaccinated population\n",
    "    html.H2(\"Top 10 Countries by Vaccination\", style={'textAlign': 'center'}),\n",
    "    dcc.Graph(\n",
    "        id='bar-graph',\n",
    "        figure=px.bar(\n",
    "            latest_df.nlargest(10, 'people_fully_vaccinated'),\n",
    "            x='country',\n",
    "            y='people_fully_vaccinated',\n",
    "            labels={'people_fully_vaccinated': 'Fully Vaccinated People'},\n",
    "            title='Top 10 Countries (Latest Date)',\n",
    "            template='plotly_white'\n",
    "        )\n",
    "    ),\n",
    "\n",
    "    # Choropleth map showing global distribution of vaccinations\n",
    "    html.H2(\"Global Vaccination Map\", style={'textAlign': 'center'}),\n",
    "    dcc.Graph(\n",
    "        id='map-graph',\n",
    "        figure=px.choropleth(\n",
    "            latest_df,\n",
    "            locations='iso_code',\n",
    "            color='people_fully_vaccinated',\n",
    "            hover_name='country',\n",
    "            color_continuous_scale='Viridis',\n",
    "            title='Global Vaccinations (Latest Date)',\n",
    "            template='plotly_white'\n",
    "        )\n",
    "    )\n",
    "])\n"
   ]
  },
  {
   "cell_type": "code",
   "execution_count": 15,
   "id": "c76aacfe",
   "metadata": {},
   "outputs": [],
   "source": [
    "# Callback\n",
    "'''\n",
    "This call back updates the line chart based on user input: \n",
    "- Country from dropdown\n",
    "- Vaccination metric from radio buttons\n",
    "- Date range from date picker\n",
    "'''\n",
    "@app.callback(\n",
    "    Output('line-graph', 'figure'),\n",
    "    Input('country-dropdown', 'value'),\n",
    "    Input('metric-radio', 'value'),\n",
    "    Input('date-range', 'start_date'),\n",
    "    Input('date-range', 'end_date')\n",
    ")\n",
    "def update_line_chart(selected_country, selected_metric, start_date, end_date):\n",
    "    '''\n",
    "    Generates an updated line chart showing the selected vaccination metric \n",
    "    for the chosen country and date range. \n",
    "\n",
    "    Parameters: \n",
    "    - Selected_country (str): Country selected from dropdown\n",
    "    - selected_metric (str): Vaccination metric selected\n",
    "    - start_date (str): Start date of selected range\n",
    "    - end_date (str): End date of selected range\n",
    "\n",
    "    Returns: \n",
    "    - fig (pltly.graph_objects.Figure): Line chart with filtered data \n",
    "\n",
    "    '''\n",
    "\n",
    "    # Filter the DataFrame based on selected country and date range\n",
    "    filtered = df[\n",
    "        (df['country'] == selected_country) &\n",
    "        (df['date'] >= start_date) &\n",
    "        (df['date'] <= end_date)\n",
    "    ]\n",
    "\n",
    "    # Creating line chart using plotly express\n",
    "    fig = px.line(\n",
    "        filtered,\n",
    "        x='date',\n",
    "        y=selected_metric,\n",
    "        title=f\"{selected_metric.replace('_', ' ').title()} in {selected_country}\",\n",
    "        labels={selected_metric: selected_metric.replace('_', ' ').title()},\n",
    "        template='plotly_white'\n",
    "    )\n",
    "    return fig\n"
   ]
  },
  {
   "cell_type": "code",
   "execution_count": 16,
   "id": "faff35e4",
   "metadata": {},
   "outputs": [
    {
     "data": {
      "text/html": [
       "\n",
       "        <iframe\n",
       "            width=\"100%\"\n",
       "            height=\"650\"\n",
       "            src=\"http://127.0.0.1:8050/\"\n",
       "            frameborder=\"0\"\n",
       "            allowfullscreen\n",
       "            \n",
       "        ></iframe>\n",
       "        "
      ],
      "text/plain": [
       "<IPython.lib.display.IFrame at 0x1e338401610>"
      ]
     },
     "metadata": {},
     "output_type": "display_data"
    }
   ],
   "source": [
    "if __name__ == '__main__':\n",
    "    app.run(debug=True)"
   ]
  }
 ],
 "metadata": {
  "kernelspec": {
   "display_name": "base",
   "language": "python",
   "name": "python3"
  },
  "language_info": {
   "codemirror_mode": {
    "name": "ipython",
    "version": 3
   },
   "file_extension": ".py",
   "mimetype": "text/x-python",
   "name": "python",
   "nbconvert_exporter": "python",
   "pygments_lexer": "ipython3",
   "version": "3.12.7"
  }
 },
 "nbformat": 4,
 "nbformat_minor": 5
}
